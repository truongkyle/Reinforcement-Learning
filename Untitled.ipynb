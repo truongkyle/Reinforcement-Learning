{
 "cells": [
  {
   "cell_type": "code",
   "execution_count": 1,
   "metadata": {},
   "outputs": [
    {
     "name": "stdout",
     "output_type": "stream",
     "text": [
      "0 : 2\n",
      "1 : 2\n",
      "0 : 4\n",
      "1 : 5\n",
      "0 : 7\n",
      "1 : 7\n",
      "0 : 9\n",
      "1 : 10\n",
      "0 : 12\n",
      "1 : 12\n",
      "0 : 14\n",
      "1 : 14\n"
     ]
    }
   ],
   "source": [
    "import threading\n",
    "import time\n",
    "from typing import Counter\n",
    "\n",
    "count = 0\n",
    "def printTime(namethread):\n",
    "    global count\n",
    "    while True:\n",
    "        time.sleep(5)\n",
    "        print(\"%s : %s\"%(namethread, str(count)))\n",
    "threads = []\n",
    "def timeCounting():\n",
    "    global count\n",
    "    while True:\n",
    "        time.sleep(2)\n",
    "        count +=1\n",
    "    \n",
    "for i in range(2):\n",
    "    thread = threading.Thread(target= printTime, args = (str(i),))\n",
    "    thread.start()\n",
    "    threads.append(thread)\n",
    "a = threading.Thread(target=timeCounting)\n",
    "a.start()\n"
   ]
  },
  {
   "cell_type": "code",
   "execution_count": 3,
   "metadata": {},
   "outputs": [
    {
     "name": "stdout",
     "output_type": "stream",
     "text": [
      "a live\n",
      "0 : 24\n",
      "1 : 24\n",
      "0 : 27\n",
      "1 : 27\n"
     ]
    }
   ],
   "source": [
    "if(threads[1].is_alive):\n",
    "    print(\"a live\")"
   ]
  },
  {
   "cell_type": "code",
   "execution_count": 2,
   "metadata": {},
   "outputs": [
    {
     "ename": "ModuleNotFoundError",
     "evalue": "No module named 'torch'",
     "output_type": "error",
     "traceback": [
      "\u001b[1;31m---------------------------------------------------------------------------\u001b[0m",
      "\u001b[1;31mModuleNotFoundError\u001b[0m                       Traceback (most recent call last)",
      "\u001b[1;32m<ipython-input-2-eb42ca6e4af3>\u001b[0m in \u001b[0;36m<module>\u001b[1;34m\u001b[0m\n\u001b[1;32m----> 1\u001b[1;33m \u001b[1;32mimport\u001b[0m \u001b[0mtorch\u001b[0m\u001b[1;33m\u001b[0m\u001b[1;33m\u001b[0m\u001b[0m\n\u001b[0m",
      "\u001b[1;31mModuleNotFoundError\u001b[0m: No module named 'torch'"
     ]
    }
   ],
   "source": [
    "import torch"
   ]
  },
  {
   "cell_type": "code",
   "execution_count": null,
   "metadata": {},
   "outputs": [],
   "source": []
  }
 ],
 "metadata": {
  "kernelspec": {
   "display_name": "Python 3",
   "language": "python",
   "name": "python3"
  },
  "language_info": {
   "codemirror_mode": {
    "name": "ipython",
    "version": 3
   },
   "file_extension": ".py",
   "mimetype": "text/x-python",
   "name": "python",
   "nbconvert_exporter": "python",
   "pygments_lexer": "ipython3",
   "version": "3.8.5"
  }
 },
 "nbformat": 4,
 "nbformat_minor": 4
}
